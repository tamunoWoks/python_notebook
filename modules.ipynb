{
 "cells": [
  {
   "cell_type": "markdown",
   "id": "591a6066-2203-443b-82cd-f7c8eabc2ce4",
   "metadata": {},
   "source": [
    "### Python Modules"
   ]
  },
  {
   "cell_type": "markdown",
   "id": "f61a62c6-5a86-4fa8-8a31-aa941333958c",
   "metadata": {},
   "source": [
    "#### Importing Modules\n",
    "##### There are several ways to import modules:\n",
    "#### 1. Import the entire module:"
   ]
  },
  {
   "cell_type": "code",
   "execution_count": 4,
   "id": "e468456e-56bd-4d69-865c-357f8f49bbac",
   "metadata": {},
   "outputs": [
    {
     "name": "stdout",
     "output_type": "stream",
     "text": [
      "3.141592653589793\n"
     ]
    }
   ],
   "source": [
    "import math\n",
    "print(math.pi)  # Access using the module name"
   ]
  },
  {
   "cell_type": "markdown",
   "id": "6a2a638c-aa4a-4b66-b70f-e1876006f4ce",
   "metadata": {},
   "source": [
    "#### 2. Import specific functions/classes:"
   ]
  },
  {
   "cell_type": "code",
   "execution_count": 6,
   "id": "09b44224-99e9-443e-b460-5fd0858bc168",
   "metadata": {},
   "outputs": [
    {
     "name": "stdout",
     "output_type": "stream",
     "text": [
      "5.0\n",
      "3.141592653589793\n"
     ]
    }
   ],
   "source": [
    "from math import sqrt, pi\n",
    "print(sqrt(25))  # No need to use the module name\n",
    "print(pi)"
   ]
  },
  {
   "cell_type": "markdown",
   "id": "086d9e71-3242-4cd2-86df-2a9ef403bb89",
   "metadata": {},
   "source": [
    "#### 3. Import with an alias:"
   ]
  },
  {
   "cell_type": "code",
   "execution_count": 9,
   "id": "e0eabd3a-efd2-4f42-b5c0-0477b9b2fbf6",
   "metadata": {},
   "outputs": [
    {
     "name": "stdout",
     "output_type": "stream",
     "text": [
      "[1 2 3]\n"
     ]
    }
   ],
   "source": [
    "import numpy as np\n",
    "print(np.array([1, 2, 3]))"
   ]
  },
  {
   "cell_type": "markdown",
   "id": "cf9eaf3b-d1a1-46e8-a6ca-9fb95b917fcc",
   "metadata": {},
   "source": [
    "#### Import everything from a module:\n",
    "##### not recommended, as it can cause naming conflicts"
   ]
  },
  {
   "cell_type": "code",
   "execution_count": 12,
   "id": "662c56ea-15b4-4c28-b5b7-6f552ba21951",
   "metadata": {},
   "outputs": [
    {
     "name": "stdout",
     "output_type": "stream",
     "text": [
      "6.0\n"
     ]
    }
   ],
   "source": [
    "from math import *\n",
    "print(sqrt(36))"
   ]
  },
  {
   "cell_type": "markdown",
   "id": "53bff3e2-4862-4f7c-9e26-bd1cd3283830",
   "metadata": {},
   "source": [
    "#### Creating Custom Modules\n",
    "##### You can create your own module by saving Python code in a .py file and importing it into another script."
   ]
  },
  {
   "cell_type": "markdown",
   "id": "cadda893-9fe9-4fdd-a428-e5da2b870ead",
   "metadata": {},
   "source": [
    "#### 1. Create a file named mymodule.py:"
   ]
  },
  {
   "cell_type": "code",
   "execution_count": 16,
   "id": "1aa56c16-c4cc-4017-911d-1c65fb0071e7",
   "metadata": {},
   "outputs": [],
   "source": [
    "# mymodule.py\n",
    "def greet(name):\n",
    "    return f\"Hello, {name}!\"\n",
    "\n",
    "def add(a, b):\n",
    "    return a + b"
   ]
  },
  {
   "cell_type": "markdown",
   "id": "8b09776c-f970-43bb-99d1-ff9c387fa74e",
   "metadata": {},
   "source": [
    "#### 2. Import and use the module in another script:"
   ]
  },
  {
   "cell_type": "code",
   "execution_count": null,
   "id": "8d6841f6-794e-4909-8341-29eb762d1fef",
   "metadata": {},
   "outputs": [],
   "source": [
    "import mymodule\n",
    "\n",
    "print(mymodule.greet(\"Alice\"))  # Output: Hello, Alice!\n",
    "print(mymodule.add(5, 3))       # Output: 8"
   ]
  },
  {
   "cell_type": "markdown",
   "id": "94fb6f9b-f032-470b-8613-2f79932b2c00",
   "metadata": {},
   "source": [
    "#### Installing Third-party Modules\n",
    "##### You can install third-party modules using pip, Python's package manager."
   ]
  },
  {
   "cell_type": "code",
   "execution_count": null,
   "id": "4c98ba68-640c-49c6-b725-02e394122b0a",
   "metadata": {},
   "outputs": [],
   "source": [
    "pip install numpy\n",
    "\n",
    "# Then, use the module in your code:\n",
    "import numpy as np\n",
    "\n",
    "arr = np.array([1, 2, 3])\n",
    "print(arr)  # Output: [1 2 3]"
   ]
  },
  {
   "cell_type": "markdown",
   "id": "6f53215a-3605-40b9-a9eb-a623e2b467d4",
   "metadata": {},
   "source": [
    "#### Exploring Module Contents\n",
    "##### You can use the dir() function to list all the functions, classes, and variables in a module."
   ]
  },
  {
   "cell_type": "code",
   "execution_count": 24,
   "id": "d1d19276-21de-4ef6-a528-84a883752a5a",
   "metadata": {},
   "outputs": [
    {
     "name": "stdout",
     "output_type": "stream",
     "text": [
      "['__doc__', '__loader__', '__name__', '__package__', '__spec__', 'acos', 'acosh', 'asin', 'asinh', 'atan', 'atan2', 'atanh', 'cbrt', 'ceil', 'comb', 'copysign', 'cos', 'cosh', 'degrees', 'dist', 'e', 'erf', 'erfc', 'exp', 'exp2', 'expm1', 'fabs', 'factorial', 'floor', 'fmod', 'frexp', 'fsum', 'gamma', 'gcd', 'hypot', 'inf', 'isclose', 'isfinite', 'isinf', 'isnan', 'isqrt', 'lcm', 'ldexp', 'lgamma', 'log', 'log10', 'log1p', 'log2', 'modf', 'nan', 'nextafter', 'perm', 'pi', 'pow', 'prod', 'radians', 'remainder', 'sin', 'sinh', 'sqrt', 'sumprod', 'tan', 'tanh', 'tau', 'trunc', 'ulp']\n"
     ]
    }
   ],
   "source": [
    "import math\n",
    "print(dir(math))"
   ]
  },
  {
   "cell_type": "markdown",
   "id": "71052946-4068-458c-aad0-862a523c1a74",
   "metadata": {},
   "source": [
    "#### Reloading a Module\n",
    "##### If you modify a custom module during runtime, you can reload it using importlib.reload()."
   ]
  },
  {
   "cell_type": "code",
   "execution_count": null,
   "id": "26f7cf01-2e15-4c01-8a1c-ab34ff96b9d5",
   "metadata": {},
   "outputs": [],
   "source": [
    "import importlib\n",
    "import mymodule\n",
    "\n",
    "# Modify mymodule.py and reload it\n",
    "importlib.reload(mymodule)"
   ]
  }
 ],
 "metadata": {
  "kernelspec": {
   "display_name": "Python 3 (ipykernel)",
   "language": "python",
   "name": "python3"
  },
  "language_info": {
   "codemirror_mode": {
    "name": "ipython",
    "version": 3
   },
   "file_extension": ".py",
   "mimetype": "text/x-python",
   "name": "python",
   "nbconvert_exporter": "python",
   "pygments_lexer": "ipython3",
   "version": "3.12.4"
  }
 },
 "nbformat": 4,
 "nbformat_minor": 5
}
