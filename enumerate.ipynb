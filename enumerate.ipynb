{
 "cells": [
  {
   "cell_type": "markdown",
   "id": "73e2db0e-9abd-4de1-afe2-577a8b6cea80",
   "metadata": {},
   "source": [
    "### enumerate()"
   ]
  },
  {
   "cell_type": "code",
   "execution_count": 2,
   "id": "5cae9b4c-243c-45c9-8313-22557a7466c0",
   "metadata": {},
   "outputs": [
    {
     "name": "stdout",
     "output_type": "stream",
     "text": [
      "['Storm', 'Zlatan', 'Earl', 'Yeezy', 'Travis']\n"
     ]
    }
   ],
   "source": [
    "kin = [\"Storm\", \"Zlatan\", \"Earl\", \"Yeezy\", \"Travis\"]\n",
    "print(kin)"
   ]
  },
  {
   "cell_type": "markdown",
   "id": "b5dd5ebf-1391-461a-bea3-4c4c4fcecf7b",
   "metadata": {},
   "source": [
    "#### Basic example:"
   ]
  },
  {
   "cell_type": "code",
   "execution_count": 9,
   "id": "0105a567-4b6e-4f40-a906-feb81b12106b",
   "metadata": {},
   "outputs": [
    {
     "name": "stdout",
     "output_type": "stream",
     "text": [
      "0 Storm\n",
      "1 Zlatan\n",
      "2 Earl\n",
      "3 Yeezy\n",
      "4 Travis\n"
     ]
    }
   ],
   "source": [
    "for index, value in enumerate(kin):\n",
    "    print(index, value)"
   ]
  },
  {
   "cell_type": "markdown",
   "id": "55350784-74c4-45da-a35d-ea6b445122a9",
   "metadata": {},
   "source": [
    "#### Custom start index:"
   ]
  },
  {
   "cell_type": "code",
   "execution_count": 13,
   "id": "50ee1c50-8d86-4e28-aabe-bee948cfaa06",
   "metadata": {},
   "outputs": [
    {
     "name": "stdout",
     "output_type": "stream",
     "text": [
      "1 Storm\n",
      "2 Zlatan\n",
      "3 Earl\n",
      "4 Yeezy\n",
      "5 Travis\n"
     ]
    }
   ],
   "source": [
    "for index, value in enumerate(kin, start=1):\n",
    "    print(index, value)"
   ]
  },
  {
   "cell_type": "markdown",
   "id": "8161139a-e8f6-4817-8a0d-6ddf1059c1b4",
   "metadata": {},
   "source": [
    "#### With strings:"
   ]
  },
  {
   "cell_type": "code",
   "execution_count": 18,
   "id": "66b154e0-8cf5-4280-8688-27047512e901",
   "metadata": {},
   "outputs": [
    {
     "name": "stdout",
     "output_type": "stream",
     "text": [
      "1 S\n",
      "2 t\n",
      "3 o\n",
      "4 r\n",
      "5 m\n"
     ]
    }
   ],
   "source": [
    "text = \"Storm\"\n",
    "for index, value in enumerate(text, start=1):\n",
    "    print(index,value)"
   ]
  },
  {
   "cell_type": "markdown",
   "id": "ce524302-8d4f-41e0-b27f-da0abf0511c5",
   "metadata": {},
   "source": [
    "#### Without enumerate()"
   ]
  },
  {
   "cell_type": "code",
   "execution_count": 36,
   "id": "b8a3536c-29a8-4e31-bf2f-c86948fdefbb",
   "metadata": {},
   "outputs": [
    {
     "name": "stdout",
     "output_type": "stream",
     "text": [
      "1 S\n",
      "2 t\n",
      "3 o\n",
      "4 r\n",
      "5 m\n"
     ]
    }
   ],
   "source": [
    "for i in range(len(text)):\n",
    "    print(i+1, text[i])"
   ]
  },
  {
   "cell_type": "markdown",
   "id": "4954ee9b-418c-413f-a362-a4cce63eb8c1",
   "metadata": {},
   "source": [
    "#### Converting to a list:"
   ]
  },
  {
   "cell_type": "code",
   "execution_count": 25,
   "id": "e08aea24-84b9-41f8-94d7-f1e8c5d859f4",
   "metadata": {},
   "outputs": [
    {
     "name": "stdout",
     "output_type": "stream",
     "text": [
      "[(0, 'Storm'), (1, 'Zlatan'), (2, 'Earl'), (3, 'Yeezy'), (4, 'Travis')]\n"
     ]
    }
   ],
   "source": [
    "array = list(enumerate(kin))\n",
    "print(array)"
   ]
  }
 ],
 "metadata": {
  "kernelspec": {
   "display_name": "Python 3 (ipykernel)",
   "language": "python",
   "name": "python3"
  },
  "language_info": {
   "codemirror_mode": {
    "name": "ipython",
    "version": 3
   },
   "file_extension": ".py",
   "mimetype": "text/x-python",
   "name": "python",
   "nbconvert_exporter": "python",
   "pygments_lexer": "ipython3",
   "version": "3.12.4"
  }
 },
 "nbformat": 4,
 "nbformat_minor": 5
}
