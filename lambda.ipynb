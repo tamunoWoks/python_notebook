{
 "cells": [
  {
   "cell_type": "markdown",
   "id": "1327b996-b9f0-4989-a72e-1d77c29f219b",
   "metadata": {},
   "source": [
    "### Lambda Functions"
   ]
  },
  {
   "cell_type": "markdown",
   "id": "89157f74-b4ac-4536-80b4-acf9c8ea69d8",
   "metadata": {},
   "source": [
    "#### Basic lambda functions"
   ]
  },
  {
   "cell_type": "code",
   "execution_count": 3,
   "id": "aaaf1ec9-f107-42f2-8715-3f364fc1a1c4",
   "metadata": {},
   "outputs": [
    {
     "name": "stdout",
     "output_type": "stream",
     "text": [
      "7\n"
     ]
    }
   ],
   "source": [
    "# lambda function to add two numbers\n",
    "add = lambda x, y: x+y\n",
    "print(add(3,4))"
   ]
  },
  {
   "cell_type": "markdown",
   "id": "0f24c9c8-149e-4f84-81bc-7fe27301410e",
   "metadata": {},
   "source": [
    "#### Using Lambda with map()"
   ]
  },
  {
   "cell_type": "code",
   "execution_count": 5,
   "id": "b2a2bacd-e027-49b7-a00b-9f4741ad8e98",
   "metadata": {},
   "outputs": [
    {
     "name": "stdout",
     "output_type": "stream",
     "text": [
      "[2, 4, 6, 8]\n"
     ]
    }
   ],
   "source": [
    "# Double each element in a list\n",
    "numbers = [1,2,3,4]\n",
    "doubled = list(map(lambda x:x*2, numbers))\n",
    "print(doubled)"
   ]
  },
  {
   "cell_type": "markdown",
   "id": "b6640fae-ca61-46cb-bf60-ffb8d7f6c831",
   "metadata": {},
   "source": [
    "#### Using Lambda with filter()"
   ]
  },
  {
   "cell_type": "code",
   "execution_count": 15,
   "id": "9c58094b-3dad-44d9-bd51-3d4c9184d3bb",
   "metadata": {},
   "outputs": [
    {
     "name": "stdout",
     "output_type": "stream",
     "text": [
      "[0, 2, 4, 6, 8]\n"
     ]
    }
   ],
   "source": [
    "# Using Lambda with filter()\n",
    "numbers = [0,1,2,3,4,5,6,7,8,9]\n",
    "evens = list(filter(lambda x: x%2==0, numbers))\n",
    "print(evens)"
   ]
  },
  {
   "cell_type": "markdown",
   "id": "1e1940db-df3c-4573-87a2-95250e44793d",
   "metadata": {},
   "source": [
    "#### Using Lambda with sorted()"
   ]
  },
  {
   "cell_type": "code",
   "execution_count": 22,
   "id": "4bc94fd5-1f60-403f-9f13-cc0803517aae",
   "metadata": {},
   "outputs": [
    {
     "name": "stdout",
     "output_type": "stream",
     "text": [
      "[(2, 8), (3, 7), (4, 6)]\n"
     ]
    }
   ],
   "source": [
    "# Sort a list of tuples by the first element\n",
    "pairs = [(2,8), (3,7), (4,6)]\n",
    "sorted_pairs = list(sorted(pairs, key=lambda x:x[0]))\n",
    "print(sorted_pairs)"
   ]
  },
  {
   "cell_type": "markdown",
   "id": "181e06c9-9111-48bc-954d-31dbfdf814d5",
   "metadata": {},
   "source": [
    "#### Lambda with Default Arguments"
   ]
  },
  {
   "cell_type": "code",
   "execution_count": 29,
   "id": "3b3ea585-c027-4f45-8f69-20057d9d7e09",
   "metadata": {},
   "outputs": [
    {
     "name": "stdout",
     "output_type": "stream",
     "text": [
      "Hello, Alice!\n",
      "Hi, Bob!\n"
     ]
    }
   ],
   "source": [
    "# Lambda with default arguments\n",
    "greet = lambda name, greeting='Hello': f'{greeting}, {name}!'\n",
    "print(greet('Alice'))\n",
    "print(greet('Bob', 'Hi'))"
   ]
  },
  {
   "cell_type": "markdown",
   "id": "639a9b60-5e83-445c-8c30-e68164eeea70",
   "metadata": {},
   "source": [
    "#### Lambda in a List Comprehension"
   ]
  },
  {
   "cell_type": "code",
   "execution_count": 34,
   "id": "802d9f82-59d7-4243-9ff9-7ff94335b3c4",
   "metadata": {},
   "outputs": [
    {
     "name": "stdout",
     "output_type": "stream",
     "text": [
      "[4, 10, 15]\n"
     ]
    }
   ],
   "source": [
    "# Using lambda in a list comprehension\n",
    "operations = [lambda x:x-1, lambda x:x*2, lambda x:x+10]\n",
    "result = [op(5) for op in operations]\n",
    "print(result)"
   ]
  },
  {
   "cell_type": "code",
   "execution_count": null,
   "id": "1dbc31c7-ae39-43c1-9f87-bf987fe0ccda",
   "metadata": {},
   "outputs": [],
   "source": []
  }
 ],
 "metadata": {
  "kernelspec": {
   "display_name": "Python 3 (ipykernel)",
   "language": "python",
   "name": "python3"
  },
  "language_info": {
   "codemirror_mode": {
    "name": "ipython",
    "version": 3
   },
   "file_extension": ".py",
   "mimetype": "text/x-python",
   "name": "python",
   "nbconvert_exporter": "python",
   "pygments_lexer": "ipython3",
   "version": "3.12.4"
  }
 },
 "nbformat": 4,
 "nbformat_minor": 5
}
