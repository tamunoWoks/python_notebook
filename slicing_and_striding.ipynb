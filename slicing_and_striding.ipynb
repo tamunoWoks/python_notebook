{
 "cells": [
  {
   "cell_type": "markdown",
   "id": "ac303437-5f43-438b-aae7-bb3e5586de0a",
   "metadata": {},
   "source": [
    "### String slicing and striding"
   ]
  },
  {
   "cell_type": "code",
   "execution_count": 17,
   "id": "12b0e637-a266-4334-a6ea-f978d4f28338",
   "metadata": {},
   "outputs": [
    {
     "name": "stdout",
     "output_type": "stream",
     "text": [
      "Tamunosaki Wokoma\n"
     ]
    }
   ],
   "source": [
    "text = \"Tamunosaki Wokoma\"\n",
    "print(text)"
   ]
  },
  {
   "cell_type": "markdown",
   "id": "0cdd0536-10df-4fcf-9ed0-5af1d4d850f1",
   "metadata": {},
   "source": [
    "#### Basic slicing"
   ]
  },
  {
   "cell_type": "code",
   "execution_count": 37,
   "id": "a8851793-fc6d-4862-bf64-ed988b0907a8",
   "metadata": {},
   "outputs": [
    {
     "name": "stdout",
     "output_type": "stream",
     "text": [
      "Tamunosaki\n"
     ]
    }
   ],
   "source": [
    "print(text[0:10]) # Slice from index 0 to 10"
   ]
  },
  {
   "cell_type": "code",
   "execution_count": 94,
   "id": "35b663e2-bd27-4365-973d-983d9d4de8c9",
   "metadata": {},
   "outputs": [
    {
     "name": "stdout",
     "output_type": "stream",
     "text": [
      "Wokoma\n"
     ]
    }
   ],
   "source": [
    "print(text[11:17]) # Slice from index 11 to 16"
   ]
  },
  {
   "cell_type": "code",
   "execution_count": 31,
   "id": "3fbb1249-0f32-4bcd-8f6e-d82a32f2a9ae",
   "metadata": {},
   "outputs": [
    {
     "name": "stdout",
     "output_type": "stream",
     "text": [
      "W\n"
     ]
    }
   ],
   "source": [
    "print(text[11]) # Slice index 11"
   ]
  },
  {
   "cell_type": "markdown",
   "id": "03f608d3-49a3-4619-9514-ea9ab7a4b78f",
   "metadata": {},
   "source": [
    "#### Omitting Start or End"
   ]
  },
  {
   "cell_type": "code",
   "execution_count": 103,
   "id": "2b56bb84-0908-439d-9532-f662037d2e8d",
   "metadata": {},
   "outputs": [
    {
     "name": "stdout",
     "output_type": "stream",
     "text": [
      "Tamunosaki\n"
     ]
    }
   ],
   "source": [
    "print(text[:10]) # slice from start to index 9"
   ]
  },
  {
   "cell_type": "code",
   "execution_count": 33,
   "id": "0b5462e1-1656-4e31-96ab-f1732010772c",
   "metadata": {},
   "outputs": [
    {
     "name": "stdout",
     "output_type": "stream",
     "text": [
      "Wokoma\n"
     ]
    }
   ],
   "source": [
    "print(text[11:]) # Slice from index 11 to the end"
   ]
  },
  {
   "cell_type": "code",
   "execution_count": 39,
   "id": "9db468be-8add-47f3-8a16-6964e091fb99",
   "metadata": {},
   "outputs": [
    {
     "name": "stdout",
     "output_type": "stream",
     "text": [
      "Tamunosaki Wokoma\n"
     ]
    }
   ],
   "source": [
    "print(text[:]) # Slice entire string"
   ]
  },
  {
   "cell_type": "markdown",
   "id": "ea89575c-73ea-4092-a301-241ddb5fdd79",
   "metadata": {},
   "source": [
    "#### Using negative indices"
   ]
  },
  {
   "cell_type": "code",
   "execution_count": 105,
   "id": "5e6feb24-30ae-48a1-8ffc-b5078eaae95e",
   "metadata": {},
   "outputs": [
    {
     "name": "stdout",
     "output_type": "stream",
     "text": [
      "a\n"
     ]
    }
   ],
   "source": [
    "print(text[-1]) # Slice first digit from back"
   ]
  },
  {
   "cell_type": "code",
   "execution_count": 109,
   "id": "5e698bcf-df1d-452f-a8a1-c1d62c2a0f4e",
   "metadata": {},
   "outputs": [
    {
     "name": "stdout",
     "output_type": "stream",
     "text": [
      " Wokom\n"
     ]
    }
   ],
   "source": [
    "print(text[-6:-1]) # Output: \"World\" (from index -6 to -2)"
   ]
  },
  {
   "cell_type": "code",
   "execution_count": 55,
   "id": "9a0f893a-ad44-42d6-8422-814c6dadac71",
   "metadata": {},
   "outputs": [
    {
     "name": "stdout",
     "output_type": "stream",
     "text": [
      "Wokoma\n"
     ]
    }
   ],
   "source": [
    "print(text[-6:]) # Slice from index -6 to end"
   ]
  },
  {
   "cell_type": "markdown",
   "id": "c2f68975-65d0-4f99-aa5a-8f73ebe0c5f1",
   "metadata": {},
   "source": [
    "#### Using Step"
   ]
  },
  {
   "cell_type": "code",
   "execution_count": 67,
   "id": "b9300b4c-e679-4ee4-9fa0-9f47122cf969",
   "metadata": {},
   "outputs": [
    {
     "name": "stdout",
     "output_type": "stream",
     "text": [
      "Tmnsk ooa\n"
     ]
    }
   ],
   "source": [
    "print(text[::2]) # slice every 2nd character"
   ]
  },
  {
   "cell_type": "code",
   "execution_count": 71,
   "id": "c25634b8-7619-44fe-b01c-3ae2fb5a475b",
   "metadata": {},
   "outputs": [
    {
     "name": "stdout",
     "output_type": "stream",
     "text": [
      "ana ka\n"
     ]
    }
   ],
   "source": [
    "print(text[1::3]) # Slice every 3rd character starting from index 1"
   ]
  },
  {
   "cell_type": "markdown",
   "id": "7de5a909-3836-4f91-8b59-afd244cdd7c9",
   "metadata": {},
   "source": [
    "#### Reversing a string"
   ]
  },
  {
   "cell_type": "code",
   "execution_count": 73,
   "id": "e51e440c-a2c0-4b97-b2d4-c1daab68e362",
   "metadata": {},
   "outputs": [
    {
     "name": "stdout",
     "output_type": "stream",
     "text": [
      "amokoW ikasonumaT\n"
     ]
    }
   ],
   "source": [
    "print(text[::-1])"
   ]
  },
  {
   "cell_type": "markdown",
   "id": "3542fd7d-a058-492c-99b0-ad3f1d362834",
   "metadata": {},
   "source": [
    "#### Combining Start, End, and Step"
   ]
  },
  {
   "cell_type": "code",
   "execution_count": 75,
   "id": "76893139-3f3e-40f3-8a54-7838e07fc1a0",
   "metadata": {},
   "outputs": [
    {
     "name": "stdout",
     "output_type": "stream",
     "text": [
      "auoai\n"
     ]
    }
   ],
   "source": [
    "print(text[1:10:2]) # Slice from index 1 to 10, step 2"
   ]
  },
  {
   "cell_type": "code",
   "execution_count": 113,
   "id": "9b2d622a-ed00-4b63-aa0b-f18a95adec76",
   "metadata": {},
   "outputs": [
    {
     "name": "stdout",
     "output_type": "stream",
     "text": [
      " ikasonu\n"
     ]
    }
   ],
   "source": [
    "print(text[10:2:-1]) # Slice from index 10, move backward to index 2, selecting every character."
   ]
  },
  {
   "cell_type": "markdown",
   "id": "e13e5915-e1f5-4a10-8195-4218a7035d34",
   "metadata": {},
   "source": [
    "#### Creating Patterns"
   ]
  },
  {
   "cell_type": "code",
   "execution_count": 77,
   "id": "481b05d5-2b13-452c-9c71-3ef18a341169",
   "metadata": {},
   "outputs": [
    {
     "name": "stdout",
     "output_type": "stream",
     "text": [
      "Tmnsk ooaauoaiWkm\n"
     ]
    }
   ],
   "source": [
    "print(text[::2] + text[1::2])  # Combines alternate characters"
   ]
  }
 ],
 "metadata": {
  "kernelspec": {
   "display_name": "Python 3 (ipykernel)",
   "language": "python",
   "name": "python3"
  },
  "language_info": {
   "codemirror_mode": {
    "name": "ipython",
    "version": 3
   },
   "file_extension": ".py",
   "mimetype": "text/x-python",
   "name": "python",
   "nbconvert_exporter": "python",
   "pygments_lexer": "ipython3",
   "version": "3.12.4"
  }
 },
 "nbformat": 4,
 "nbformat_minor": 5
}
