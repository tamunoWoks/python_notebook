{
 "cells": [
  {
   "cell_type": "markdown",
   "id": "404dc3e9-9b52-432e-801d-567b6dc89f04",
   "metadata": {},
   "source": [
    "### File Handling in Python"
   ]
  },
  {
   "cell_type": "markdown",
   "id": "faf82aa4-eff5-4bc1-a07a-1803793b8d79",
   "metadata": {},
   "source": [
    "#### Create a Text File Using Python"
   ]
  },
  {
   "cell_type": "code",
   "execution_count": 8,
   "id": "3004e8d1-6015-4292-8fe6-efc51544175d",
   "metadata": {},
   "outputs": [
    {
     "name": "stdout",
     "output_type": "stream",
     "text": [
      "File 'example.txt' created successfully!\n"
     ]
    }
   ],
   "source": [
    "# Random text content\n",
    "text = \"\"\"The quick brown fox jumps over the lazy dog. This sentence contains every letter of the English alphabet, making it a pangram. Pangrams are often used to practice typing, test fonts, or display text.\n",
    "\n",
    "Did you know that the earliest known use of this pangram dates back to the late 19th century? It has since become a staple in typography and design.\n",
    "\n",
    "In programming, file handling is a crucial skill. Whether you're reading data from a file, writing results to a new file, or appending logs to an existing one, understanding how to manipulate files is essential.\n",
    "\n",
    "Python makes file handling simple with its built-in functions like `open()`, `read()`, `write()`, and `close()`. The `with` statement is particularly useful as it ensures files are properly closed after use.\n",
    "\n",
    "Practice makes perfect! Use this text to experiment with file operations and improve your Python skills.\"\"\"\n",
    "\n",
    "# Create and write to the file\n",
    "with open(\"example.txt\", \"w\") as file:\n",
    "    file.write(text)\n",
    "\n",
    "print(\"File 'example.txt' created successfully!\")"
   ]
  },
  {
   "cell_type": "markdown",
   "id": "c6dce385-5fc6-49a9-b64a-21a381161502",
   "metadata": {},
   "source": [
    "#### Opening a File\n",
    "##### To work with a file, you first need to open it using the open() function."
   ]
  },
  {
   "cell_type": "code",
   "execution_count": 12,
   "id": "3d7dc12e-61de-448e-b9c0-db97a73db9fc",
   "metadata": {},
   "outputs": [],
   "source": [
    "file = open(\"example.txt\", \"r\")"
   ]
  },
  {
   "cell_type": "markdown",
   "id": "7abf810e-a0e4-4ce8-a797-89528c5f0a3b",
   "metadata": {},
   "source": [
    "#### Reading from a File\n",
    "##### You can read the contents of a file using methods like read(), readline(), or readlines()."
   ]
  },
  {
   "cell_type": "code",
   "execution_count": 15,
   "id": "73425389-d8f0-40ad-8097-07b7a8874aad",
   "metadata": {},
   "outputs": [
    {
     "name": "stdout",
     "output_type": "stream",
     "text": [
      "The quick brown fox jumps over the lazy dog. This sentence contains every letter of the English alphabet, making it a pangram. Pangrams are often used to practice typing, test fonts, or display text.\n",
      "\n",
      "Did you know that the earliest known use of this pangram dates back to the late 19th century? It has since become a staple in typography and design.\n",
      "\n",
      "In programming, file handling is a crucial skill. Whether you're reading data from a file, writing results to a new file, or appending logs to an existing one, understanding how to manipulate files is essential.\n",
      "\n",
      "Python makes file handling simple with its built-in functions like `open()`, `read()`, `write()`, and `close()`. The `with` statement is particularly useful as it ensures files are properly closed after use.\n",
      "\n",
      "Practice makes perfect! Use this text to experiment with file operations and improve your Python skills.\n",
      "\n",
      "[]\n"
     ]
    }
   ],
   "source": [
    "# Open a file in read mode\n",
    "file = open(\"example.txt\", \"r\")\n",
    "\n",
    "# Read the entire file\n",
    "content = file.read()\n",
    "print(content)\n",
    "\n",
    "# Read one line at a time\n",
    "line = file.readline()\n",
    "print(line)\n",
    "\n",
    "# Read all lines into a list\n",
    "lines = file.readlines()\n",
    "print(lines)\n",
    "\n",
    "# Close the file\n",
    "file.close()"
   ]
  },
  {
   "cell_type": "markdown",
   "id": "ce84a6fa-6aba-4344-9df7-901d78d1167b",
   "metadata": {},
   "source": [
    "#### Writing a File\n",
    "##### You can write to a file using the write() or writelines() methods."
   ]
  },
  {
   "cell_type": "code",
   "execution_count": 33,
   "id": "37def77c-1944-43c2-8787-6a67267bef4d",
   "metadata": {},
   "outputs": [],
   "source": [
    "# Open a file in write mode (creates or overwrites the file)\n",
    "file = open(\"example.txt\", \"w\")\n",
    "\n",
    "# Write a string to the file\n",
    "file.write(\"Hello, World!\\n\")\n",
    "\n",
    "# Write multiple lines\n",
    "file.writelines([\"Line 1\\n\", \"Line 2\\n\", \"Line 3\\n\"])\n",
    "\n",
    "# Close the file\n",
    "file.close()"
   ]
  },
  {
   "cell_type": "markdown",
   "id": "ae209bf8-258e-4e57-87b1-ebca0c453811",
   "metadata": {},
   "source": [
    "#### Appending to a File\n",
    "##### To add content to an existing file without overwriting it, use the append mode (\"a\")."
   ]
  },
  {
   "cell_type": "code",
   "execution_count": null,
   "id": "c5124ea2-5d61-4af0-85ac-93686127abe3",
   "metadata": {},
   "outputs": [],
   "source": [
    "# Open a file in append mode\n",
    "file = open(\"example.txt\", \"a\")\n",
    "\n",
    "# Append content to the file\n",
    "file.write(\"This is a new line.\\n\")\n",
    "\n",
    "# Close the file\n",
    "file.close()"
   ]
  },
  {
   "cell_type": "markdown",
   "id": "8b59b5ba-aa8f-4113-bd66-414d2aa4b91a",
   "metadata": {},
   "source": [
    "####  Closing a File\n",
    "##### Always close a file after you’re done with it using the close() method. This ensures that all changes are saved and resources are freed."
   ]
  },
  {
   "cell_type": "code",
   "execution_count": null,
   "id": "84e0384d-db15-44b1-809a-86f1bf6f1b6b",
   "metadata": {},
   "outputs": [],
   "source": [
    "file = open(\"example.txt\", \"r\")\n",
    "# Perform file operations\n",
    "file.close()"
   ]
  },
  {
   "cell_type": "markdown",
   "id": "d87f39d1-179d-4c5f-a1d2-a3b631bea67c",
   "metadata": {},
   "source": [
    "#### Using with Statement (Recommended)\n",
    "##### The with statement automatically handles closing the file, even if an exception occurs. This is the preferred way to work with files."
   ]
  },
  {
   "cell_type": "code",
   "execution_count": 27,
   "id": "a59d242e-233c-4756-aa5c-69aeb6655576",
   "metadata": {},
   "outputs": [
    {
     "name": "stdout",
     "output_type": "stream",
     "text": [
      "Hello, World!\n",
      "Line 1\n",
      "Line 2\n",
      "Line 3\n",
      "\n"
     ]
    }
   ],
   "source": [
    "# Using 'with' to open a file\n",
    "with open(\"example.txt\", \"r\") as file:\n",
    "    content = file.read()\n",
    "    print(content)\n",
    "# No need to explicitly close the file"
   ]
  },
  {
   "cell_type": "markdown",
   "id": "3d10442c-5756-4a83-970f-04ed427cdd92",
   "metadata": {},
   "source": [
    "#### Working with Binary Files\n",
    "##### To handle binary files (e.g., images, videos), use the \"b\" mode."
   ]
  },
  {
   "cell_type": "code",
   "execution_count": null,
   "id": "806bea78-6e2a-4f54-bf72-6b8189fe8b7c",
   "metadata": {},
   "outputs": [],
   "source": [
    "# Reading a binary file\n",
    "with open(\"image.png\", \"rb\") as file:\n",
    "    binary_data = file.read()\n",
    "\n",
    "# Writing to a binary file\n",
    "with open(\"copy.png\", \"wb\") as file:\n",
    "    file.write(binary_data)"
   ]
  },
  {
   "cell_type": "markdown",
   "id": "38a97e7c-e8e4-483c-8cf5-2fff1b5eab9f",
   "metadata": {},
   "source": [
    "#### Error Handling\n",
    "##### Always handle exceptions when working with files to avoid crashes."
   ]
  },
  {
   "cell_type": "code",
   "execution_count": 37,
   "id": "53c726e4-5d00-4d2c-a851-bcfae1bd60f9",
   "metadata": {},
   "outputs": [
    {
     "name": "stdout",
     "output_type": "stream",
     "text": [
      "Hello, World!\n",
      "Line 1\n",
      "Line 2\n",
      "Line 3\n",
      "\n"
     ]
    }
   ],
   "source": [
    "try:\n",
    "    with open(\"example.txt\", \"r\") as file:\n",
    "        content = file.read()\n",
    "        print(content)\n",
    "except FileNotFoundError:\n",
    "    print(\"File not found!\")\n",
    "except IOError:\n",
    "    print(\"An error occurred while reading the file.\")"
   ]
  },
  {
   "cell_type": "markdown",
   "id": "f67fe1e3-63c7-484d-8cf1-c228fc6e47d2",
   "metadata": {},
   "source": [
    "#### Copying a File\n",
    "##### Here’s an example of copying the contents of one file to another:"
   ]
  },
  {
   "cell_type": "code",
   "execution_count": 42,
   "id": "34d3235d-4c72-432f-8819-42355efb97a1",
   "metadata": {},
   "outputs": [],
   "source": [
    "# Copying a file\n",
    "with open(\"example.txt\", \"r\") as source, open(\"destination.txt\", \"w\") as destination:\n",
    "    for line in source:\n",
    "        destination.write(line)"
   ]
  },
  {
   "cell_type": "code",
   "execution_count": null,
   "id": "c91a55eb-50cc-46b1-a41a-551af33a2fac",
   "metadata": {},
   "outputs": [],
   "source": []
  }
 ],
 "metadata": {
  "kernelspec": {
   "display_name": "Python 3 (ipykernel)",
   "language": "python",
   "name": "python3"
  },
  "language_info": {
   "codemirror_mode": {
    "name": "ipython",
    "version": 3
   },
   "file_extension": ".py",
   "mimetype": "text/x-python",
   "name": "python",
   "nbconvert_exporter": "python",
   "pygments_lexer": "ipython3",
   "version": "3.12.4"
  }
 },
 "nbformat": 4,
 "nbformat_minor": 5
}
