{
 "cells": [
  {
   "cell_type": "markdown",
   "id": "23492a0a-3277-4b92-827c-9a1aaccb88ce",
   "metadata": {},
   "source": [
    "### Object-Oriented Programming"
   ]
  },
  {
   "cell_type": "markdown",
   "id": "383f1d50-8927-4e1b-9807-ef556a0b055d",
   "metadata": {},
   "source": [
    "#### Defining a class:"
   ]
  },
  {
   "cell_type": "code",
   "execution_count": 3,
   "id": "206ee1de-8e41-4e3c-8e23-cac987648d2f",
   "metadata": {},
   "outputs": [],
   "source": [
    "class Human:\n",
    "    species = \"Homo sapiens\" # Class attribute (shared by all instances)\n",
    "\n",
    "    # Constructor (initializer) method\n",
    "    def __init__(self, name, age, gender):\n",
    "        # Instance attibutes\n",
    "        self.name = name\n",
    "        self.age = age\n",
    "        self.gender = gender\n",
    "\n",
    "    # Instance method\n",
    "    def greet(self):\n",
    "        return f\"{self.name} says hi!!\"\n",
    "\n",
    "    # Another instance method\n",
    "    def get_age(self):\n",
    "        return f\"{self.name} is {self.age} years old\"\n",
    "\n",
    "    # One last instance method\n",
    "    def intro(self):\n",
    "        return f\"{self.name} is a {self.age} old {self.gender}\"\n"
   ]
  },
  {
   "cell_type": "markdown",
   "id": "c29de6da-39aa-4823-a7a6-118d23ef83d0",
   "metadata": {},
   "source": [
    "#### Creating an Object:"
   ]
  },
  {
   "cell_type": "code",
   "execution_count": 5,
   "id": "ba7fdf82-36ec-4c75-9209-80d58e187b8e",
   "metadata": {},
   "outputs": [
    {
     "name": "stdout",
     "output_type": "stream",
     "text": [
      "Storm\n",
      "Storm says hi!!\n",
      "Storm is a 35 old male\n"
     ]
    }
   ],
   "source": [
    "# Create an instance of the Human class\n",
    "person = Human(\"Storm\", 35, \"male\")\n",
    "\n",
    "# Access attributes and methods\n",
    "print(person.name)\n",
    "print(person.greet())\n",
    "print(person.intro())"
   ]
  },
  {
   "cell_type": "markdown",
   "id": "5abd1272-c54e-4979-a734-69e96a8c6c82",
   "metadata": {},
   "source": [
    "#### Inheritance:"
   ]
  },
  {
   "cell_type": "code",
   "execution_count": 7,
   "id": "68c5e74a-138b-4943-9af5-20f2eacd8f74",
   "metadata": {},
   "outputs": [
    {
     "name": "stdout",
     "output_type": "stream",
     "text": [
      "Whiskers says meow!\n",
      "Buddy says woof!\n"
     ]
    }
   ],
   "source": [
    "# Parent class\n",
    "class Animal:\n",
    "    def __init__(self, name):\n",
    "        self.name = name\n",
    "\n",
    "    def speak(self):\n",
    "        raise NotImplementedError(\"Subclasses must implement this method\")\n",
    "\n",
    "# Child class\n",
    "class Cat(Animal):\n",
    "    def speak(self):\n",
    "        return f\"{self.name} says meow!\"\n",
    "\n",
    "# Child class\n",
    "class Dog(Animal):\n",
    "    def speak(self):\n",
    "        return f\"{self.name} says woof!\"\n",
    "\n",
    "# Create objects\n",
    "my_cat = Cat(\"Whiskers\")\n",
    "my_dog = Dog(\"Buddy\")\n",
    "\n",
    "print(my_cat.speak())  # Output: Whiskers says meow!\n",
    "print(my_dog.speak())  # Output: Buddy says woof!"
   ]
  },
  {
   "cell_type": "markdown",
   "id": "12188a0e-6010-4b22-a961-c611b5284628",
   "metadata": {},
   "source": [
    "#### Encapsulation:"
   ]
  },
  {
   "cell_type": "code",
   "execution_count": 9,
   "id": "b4f9ea4b-fb7a-4a46-9933-6feee6f08816",
   "metadata": {},
   "outputs": [
    {
     "name": "stdout",
     "output_type": "stream",
     "text": [
      "Deposited 500. New balance: 1500\n",
      "Withdrew 200. New balance: 1300\n",
      "1300\n"
     ]
    }
   ],
   "source": [
    "class BankAccount:\n",
    "    def __init__(self, owner, balance=0):\n",
    "        self.owner = owner\n",
    "        self.__balance = balance  # Private attribute\n",
    "\n",
    "    def deposit(self, amount):\n",
    "        if amount > 0:\n",
    "            self.__balance += amount\n",
    "            return f\"Deposited {amount}. New balance: {self.__balance}\"\n",
    "        else:\n",
    "            return \"Invalid deposit amount\"\n",
    "\n",
    "    def withdraw(self, amount):\n",
    "        if 0 < amount <= self.__balance:\n",
    "            self.__balance -= amount\n",
    "            return f\"Withdrew {amount}. New balance: {self.__balance}\"\n",
    "        else:\n",
    "            return \"Insufficient funds\"\n",
    "\n",
    "    def get_balance(self):\n",
    "        return self.__balance\n",
    "\n",
    "# Create an object\n",
    "account = BankAccount(\"Alice\", 1000)\n",
    "\n",
    "print(account.deposit(500))  # Output: Deposited 500. New balance: 1500\n",
    "print(account.withdraw(200)) # Output: Withdrew 200. New balance: 1300\n",
    "print(account.get_balance()) # Output: 1300"
   ]
  },
  {
   "cell_type": "markdown",
   "id": "dfa1c310-3cc8-4194-8cdf-6d3652e5eaf5",
   "metadata": {},
   "source": [
    "#### Polymorphism:"
   ]
  },
  {
   "cell_type": "code",
   "execution_count": 11,
   "id": "d4e8ea09-5918-4b09-80bc-cc703da0486f",
   "metadata": {},
   "outputs": [
    {
     "name": "stdout",
     "output_type": "stream",
     "text": [
      "Chirp!\n",
      "Quack!\n",
      "Squawk!\n"
     ]
    }
   ],
   "source": [
    "class Bird:\n",
    "    def speak(self):\n",
    "        return \"Chirp!\"\n",
    "\n",
    "class Duck(Bird):\n",
    "    def speak(self):\n",
    "        return \"Quack!\"\n",
    "\n",
    "class Parrot(Bird):\n",
    "    def speak(self):\n",
    "        return \"Squawk!\"\n",
    "\n",
    "# Function demonstrating polymorphism\n",
    "def animal_sound(animal):\n",
    "    return animal.speak()\n",
    "\n",
    "# Create objects\n",
    "bird = Bird()\n",
    "duck = Duck()\n",
    "parrot = Parrot()\n",
    "\n",
    "print(animal_sound(bird))   # Output: Chirp!\n",
    "print(animal_sound(duck))   # Output: Quack!\n",
    "print(animal_sound(parrot)) # Output: Squawk!"
   ]
  },
  {
   "cell_type": "markdown",
   "id": "5c444004-1d43-4e22-9b0f-51b642658504",
   "metadata": {},
   "source": [
    "#### Abstraction:"
   ]
  },
  {
   "cell_type": "code",
   "execution_count": 13,
   "id": "3dd82c30-aa0c-425d-928a-67d7a0c5b2e0",
   "metadata": {},
   "outputs": [
    {
     "name": "stdout",
     "output_type": "stream",
     "text": [
      "78.5\n",
      "31.400000000000002\n"
     ]
    }
   ],
   "source": [
    "from abc import ABC, abstractmethod\n",
    "\n",
    "# Abstract class\n",
    "class Shape(ABC):\n",
    "    @abstractmethod\n",
    "    def area(self):\n",
    "        pass\n",
    "\n",
    "    @abstractmethod\n",
    "    def perimeter(self):\n",
    "        pass\n",
    "\n",
    "# Concrete class\n",
    "class Circle(Shape):\n",
    "    def __init__(self, radius):\n",
    "        self.radius = radius\n",
    "\n",
    "    def area(self):\n",
    "        return 3.14 * self.radius ** 2\n",
    "\n",
    "    def perimeter(self):\n",
    "        return 2 * 3.14 * self.radius\n",
    "\n",
    "# Create an object\n",
    "circle = Circle(5)\n",
    "print(circle.area())      # Output: 78.5\n",
    "print(circle.perimeter()) # Output: 31.4"
   ]
  },
  {
   "cell_type": "markdown",
   "id": "1f44d467-ec85-4b3f-8907-39434d8cd395",
   "metadata": {},
   "source": [
    "#### Magic/Dunder Methods:"
   ]
  },
  {
   "cell_type": "code",
   "execution_count": 15,
   "id": "098c3ad0-bc6c-4fa7-98d6-360fb7894bb2",
   "metadata": {},
   "outputs": [
    {
     "name": "stdout",
     "output_type": "stream",
     "text": [
      "Point(1, 2)\n",
      "Point(4, 6)\n"
     ]
    }
   ],
   "source": [
    "# Python classes can define special methods (e.g., __init__, __str__, __add__) to enable operator overloading and other behaviors.\n",
    "class Point:\n",
    "    def __init__(self, x, y):\n",
    "        self.x = x\n",
    "        self.y = y\n",
    "\n",
    "    def __str__(self):\n",
    "        return f\"Point({self.x}, {self.y})\"\n",
    "\n",
    "    def __add__(self, other):\n",
    "        return Point(self.x + other.x, self.y + other.y)\n",
    "\n",
    "# Create objects\n",
    "p1 = Point(1, 2)\n",
    "p2 = Point(3, 4)\n",
    "p3 = p1 + p2\n",
    "\n",
    "print(p1)       # Output: Point(1, 2)\n",
    "print(p3)       # Output: Point(4, 6)"
   ]
  },
  {
   "cell_type": "code",
   "execution_count": null,
   "id": "2558d0d1-82d9-4d48-8ef0-fd77206026fa",
   "metadata": {},
   "outputs": [],
   "source": []
  }
 ],
 "metadata": {
  "kernelspec": {
   "display_name": "Python 3 (ipykernel)",
   "language": "python",
   "name": "python3"
  },
  "language_info": {
   "codemirror_mode": {
    "name": "ipython",
    "version": 3
   },
   "file_extension": ".py",
   "mimetype": "text/x-python",
   "name": "python",
   "nbconvert_exporter": "python",
   "pygments_lexer": "ipython3",
   "version": "3.12.4"
  }
 },
 "nbformat": 4,
 "nbformat_minor": 5
}
